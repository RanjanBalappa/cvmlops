{
 "cells": [
  {
   "cell_type": "code",
   "execution_count": 6,
   "id": "cd36d60d-92ef-4669-928a-1d7111fc3c37",
   "metadata": {},
   "outputs": [],
   "source": [
    "INPUT = '/media/ranjan/dl/smartzoo/data/training/'\n",
    "OUTPUT = '/media/ranjan/dl/smartzoo/data'"
   ]
  },
  {
   "cell_type": "code",
   "execution_count": 54,
   "id": "3ff90541-90c8-4325-8eee-77f4b6b3519e",
   "metadata": {},
   "outputs": [],
   "source": [
    "from pathlib import Path\n",
    "from skimage.io import imread \n",
    "from matplotlib import pyplot as plt\n",
    "from math import ceil\n",
    "from random import shuffle\n",
    "from collections import Counter, OrderedDict\n",
    "import os\n",
    "import shutil\n",
    "%matplotlib inline"
   ]
  },
  {
   "cell_type": "code",
   "execution_count": 63,
   "id": "4f5cb6bd-2f42-43ec-9db5-b5584f9ed87d",
   "metadata": {},
   "outputs": [],
   "source": [
    "imagepaths = [str(path) for path in Path(INPUT).glob('*/*') if str(path).split('.')[-1] in ['png', 'jpg', 'jpeg']]\n",
    "outputpath = Path(OUTPUT)"
   ]
  },
  {
   "cell_type": "code",
   "execution_count": 64,
   "id": "16e71c77-c2df-4180-8a82-0a8d76f036b5",
   "metadata": {},
   "outputs": [
    {
     "name": "stdout",
     "output_type": "stream",
     "text": [
      "Number of images 13499\n"
     ]
    }
   ],
   "source": [
    "print(f'Number of images {len(imagepaths)}')"
   ]
  },
  {
   "cell_type": "code",
   "execution_count": 65,
   "id": "45c433de-7542-4e4d-a278-37907ef6fa38",
   "metadata": {},
   "outputs": [],
   "source": [
    "shuffle(imagepaths)"
   ]
  },
  {
   "cell_type": "code",
   "execution_count": 66,
   "id": "37cb6d90-09de-410e-8b71-e6ce404a3231",
   "metadata": {},
   "outputs": [],
   "source": [
    "categorycount = OrderedDict(Counter([str(path).split('/')[-2] for path in imagepaths]))"
   ]
  },
  {
   "cell_type": "code",
   "execution_count": 67,
   "id": "a230f995-322a-4f76-934f-e27d9c5fa64c",
   "metadata": {},
   "outputs": [
    {
     "data": {
      "text/plain": [
       "<BarContainer object of 6 artists>"
      ]
     },
     "execution_count": 67,
     "metadata": {},
     "output_type": "execute_result"
    },
    {
     "data": {
      "image/png": "[encoded data removed]",
      "text/plain": [
       "<Figure size 432x288 with 1 Axes>"
      ]
     },
     "metadata": {
      "needs_background": "light"
     },
     "output_type": "display_data"
    }
   ],
   "source": [
    "plt.xticks(rotation=-90)\n",
    "plt.bar(categorycount.keys(), categorycount.values(), width=0.5, align='center')"
   ]
  },
  {
   "cell_type": "code",
   "execution_count": 68,
   "id": "e3ffd02d-e3a8-48a1-a2ff-cac0c1e8c8c9",
   "metadata": {},
   "outputs": [],
   "source": [
    "categorysplit = OrderedDict()\n",
    "for path in imagepaths:\n",
    "    category = path.split('/')[-2]\n",
    "    imagename = path.split('/')[-1]\n",
    "    categorysplit[category] = categorysplit.get(category, 0) + 1\n",
    "    fold = 'train' if categorysplit[category] < ceil(categorycount[category] * 0.7) else 'valid'\n",
    "    os.makedirs(outputpath/fold/category, exist_ok=True)\n",
    "    shutil.copy(path, outputpath/fold/category/imagename)"
   ]
  },
  {
   "cell_type": "code",
   "execution_count": null,
   "id": "c2c2c7b7-967b-430e-9185-8ecb68d6576f",
   "metadata": {},
   "outputs": [],
   "source": []
  }
 ],
 "metadata": {
  "kernelspec": {
   "display_name": "pytorch",
   "language": "python",
   "name": "pytorch"
  },
  "language_info": {
   "codemirror_mode": {
    "name": "ipython",
    "version": 3
   },
   "file_extension": ".py",
   "mimetype": "text/x-python",
   "name": "python",
   "nbconvert_exporter": "python",
   "pygments_lexer": "ipython3",
   "version": "3.8.0"
  }
 },
 "nbformat": 4,
 "nbformat_minor": 5
}
